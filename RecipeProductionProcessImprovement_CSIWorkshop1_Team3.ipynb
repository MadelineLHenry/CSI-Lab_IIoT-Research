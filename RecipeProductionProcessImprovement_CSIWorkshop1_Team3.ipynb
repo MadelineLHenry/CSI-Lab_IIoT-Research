{
 "cells": [
  {
   "cell_type": "markdown",
   "id": "1e2031d6",
   "metadata": {},
   "source": [
    "# CSI Workshop 1: RECIPE PRODUCTION PROCESS IMPROVEMENT\n",
    "\n",
    "### BusAdm 745 - ARTIFICIAL INTELLIGENCE FOR BUSINESS​"
   ]
  },
  {
   "cell_type": "markdown",
   "id": "f63aebe9",
   "metadata": {},
   "source": [
    "Problem: Roughly 16% of observation vials in our lab dataset failed weigh check inspections. Our goal is to determine the factors that impact whether a vial will pass or fail weigh check inspection and then to build a model which can predict whether a vial will pass or fail based on those factors."
   ]
  },
  {
   "cell_type": "code",
   "execution_count": 1,
   "id": "2206ca87",
   "metadata": {},
   "outputs": [],
   "source": [
    "import pandas as pd\n",
    "import numpy as np\n",
    "import re\n",
    "import matplotlib.pyplot as plt\n",
    "from sklearn.model_selection import train_test_split, StratifiedKFold\n",
    "from sklearn.feature_selection import SelectKBest, mutual_info_classif\n",
    "from sklearn.ensemble import RandomForestClassifier\n",
    "from sklearn.metrics import accuracy_score, classification_report, confusion_matrix, roc_curve, roc_auc_score, auc"
   ]
  },
  {
   "cell_type": "markdown",
   "id": "b8aaf87d",
   "metadata": {},
   "source": [
    "## Load and Preprocess Data\n",
    "\n",
    "The data for this analysis is the provided by a network of connected industrial devices and sensors in the CSI manufacturing cell. Each observation represents a production vial that entered the assembly line. Sensors track location and station processes, including weight and visual inspection stations processes.\n",
    "\n"
   ]
  },
  {
   "cell_type": "code",
   "execution_count": 2,
   "id": "56b48d94",
   "metadata": {},
   "outputs": [],
   "source": [
    "# Load the dataset\n",
    "# data = pd.read_csv(r'C:\\Users\\webste63\\Downloads\\Data Workshop 1 Apr 6 2023.csv')\n",
    "\n",
    "# Read csv into pandas dataframe\n",
    "data = pd.read_csv('C:/Users/mlhen/Downloads/Data Workshop 1 Apr 6 2023.csv')\n",
    "\n",
    "# Preprocess the data\n",
    "data = data[data['ManualRecipeNumber'] == 1]\n",
    "data = data[data['InspectStationWeighCheckPassFail'] != 0]\n",
    "\n",
    "# Remove datetimestamps from dataset\n",
    "# Remove columns designating upper and lower inspection thresholds\n",
    "# Remove unique identifier columns \n",
    "# Remove columns with only 1 value\n",
    "# Also remove 'MESScheduleUniqueID' column\n",
    "cols_to_remove = []\n",
    "for col in data.columns:\n",
    "    if 'Time' in col:\n",
    "        cols_to_remove.append(f'{col}')\n",
    "    elif 'Upper' in col:\n",
    "        cols_to_remove.append(f'{col}')\n",
    "    elif 'Lower' in col:\n",
    "        cols_to_remove.append(f'{col}')\n",
    "    elif len(data[col].unique()) == 1:\n",
    "        cols_to_remove.append(f'{col}')\n",
    "    elif len(data[col].unique()) == len(data):\n",
    "        cols_to_remove.append(f'{col}')\n",
    "    elif col == 'MESScheduleUniqueID':\n",
    "        cols_to_remove.append(f'{col}')\n",
    "    \n",
    "data = data.drop(cols_to_remove, axis=1)"
   ]
  },
  {
   "cell_type": "code",
   "execution_count": 3,
   "id": "9725d3ac",
   "metadata": {},
   "outputs": [
    {
     "name": "stdout",
     "output_type": "stream",
     "text": [
      "<class 'pandas.core.frame.DataFrame'>\n",
      "Int64Index: 132 entries, 1 to 305\n",
      "Data columns (total 20 columns):\n",
      " #   Column                            Non-Null Count  Dtype  \n",
      "---  ------                            --------------  -----  \n",
      " 0   CurrentVehicleID                  132 non-null    int64  \n",
      " 1   InspectStationVisionComplete      132 non-null    int64  \n",
      " 2   InspectStationVisionDuration      132 non-null    int64  \n",
      " 3   InspectStationVisionOpRequired    132 non-null    int64  \n",
      " 4   InspectStationVisionPassFail      132 non-null    int64  \n",
      " 5   InspectStationVisionVialRGBBlue   132 non-null    int64  \n",
      " 6   InspectStationVisionVialRGBGreen  132 non-null    int64  \n",
      " 7   InspectStationVisionVialRGBRed    132 non-null    int64  \n",
      " 8   InspectStationWeighCheckData      132 non-null    float64\n",
      " 9   InspectStationWeighCheckDuration  132 non-null    int64  \n",
      " 10  InspectStationWeighCheckPassFail  132 non-null    int64  \n",
      " 11  Station1ChecknLoadDuration        132 non-null    int64  \n",
      " 12  UnloadDuration                    132 non-null    int64  \n",
      " 13  VialEmptyWeight                   132 non-null    float64\n",
      " 14  WetFillStation3Duration           132 non-null    int64  \n",
      " 15  WetFillStation3VolumeDispTank1    132 non-null    float64\n",
      " 16  WetFillStation3VolumeDispTank2    132 non-null    float64\n",
      " 17  WetFillStation3VolumeDispTank3    132 non-null    float64\n",
      " 18  WetFillStation3VolumeDispTank4    132 non-null    float64\n",
      " 19  WetFillStation5VolumeReqTank4     132 non-null    int64  \n",
      "dtypes: float64(6), int64(14)\n",
      "memory usage: 21.7 KB\n",
      "\n",
      "Propotion of Pass(1) and Fail(2) for Inspect Station Weight Check:\n",
      "Out of 132 observations.\n",
      "\n",
      "1    0.840909\n",
      "2    0.159091\n",
      "Name: InspectStationWeighCheckPassFail, dtype: float64\n"
     ]
    }
   ],
   "source": [
    "data.info()\n",
    "print('\\nPropotion of Pass(1) and Fail(2) for Inspect Station Weight Check:')\n",
    "print(f'Out of {len(data)} observations.\\n')\n",
    "print(data['InspectStationWeighCheckPassFail'].value_counts(normalize=True))"
   ]
  },
  {
   "cell_type": "markdown",
   "id": "f65f572a",
   "metadata": {},
   "source": [
    "Notable that the proportion of our intended variable is approximately 84% positive, meaning that 84% of observations in our dataset did pass the weigh check inspection. "
   ]
  },
  {
   "cell_type": "markdown",
   "id": "a6d8804f",
   "metadata": {},
   "source": [
    "## Feature Selection"
   ]
  },
  {
   "cell_type": "code",
   "execution_count": 4,
   "id": "e1f5b6e7",
   "metadata": {},
   "outputs": [
    {
     "name": "stdout",
     "output_type": "stream",
     "text": [
      "Selected features: ['InspectStationVisionComplete', 'InspectStationVisionDuration', 'InspectStationVisionOpRequired', 'InspectStationVisionVialRGBBlue', 'InspectStationVisionVialRGBGreen', 'InspectStationVisionVialRGBRed', 'InspectStationWeighCheckData', 'UnloadDuration', 'WetFillStation3VolumeDispTank3', 'WetFillStation3VolumeDispTank4']\n"
     ]
    }
   ],
   "source": [
    "# Define the target and features\n",
    "target = 'InspectStationWeighCheckPassFail'\n",
    "features = data.drop(columns=[target])\n",
    "\n",
    "# Perform feature selection using mutual information\n",
    "selector = SelectKBest(score_func=mutual_info_classif, k=10)\n",
    "selector.fit(features, data[target])\n",
    "selected_features = features.columns[selector.get_support()]\n",
    "\n",
    "print(\"Selected features:\", list(selected_features))"
   ]
  },
  {
   "cell_type": "markdown",
   "id": "ee403e72",
   "metadata": {},
   "source": [
    "## Train Random Forest Classifier"
   ]
  },
  {
   "cell_type": "code",
   "execution_count": 5,
   "id": "7504af85",
   "metadata": {},
   "outputs": [
    {
     "name": "stdout",
     "output_type": "stream",
     "text": [
      "Mean AUC after 10-fold cross-validation: 0.975\n"
     ]
    }
   ],
   "source": [
    "# Train-test split (75%-25%)\n",
    "X_train, X_test, y_train, y_test = train_test_split(features[selected_features], data[target], test_size=0.25, random_state=42, stratify=data[target])\n",
    "\n",
    "# Initialize the classifier\n",
    "clf = RandomForestClassifier(random_state=42)\n",
    "\n",
    "# Perform 10-fold cross-validation on the training set\n",
    "cv = StratifiedKFold(n_splits=10)\n",
    "roc_aucs = []\n",
    "\n",
    "for train_index, val_index in cv.split(X_train, y_train):\n",
    "    X_train_cv, X_val_cv = X_train.iloc[train_index], X_train.iloc[val_index]\n",
    "    y_train_cv, y_val_cv = y_train.iloc[train_index], y_train.iloc[val_index]\n",
    "\n",
    "    clf.fit(X_train_cv, y_train_cv)\n",
    "    y_val_pred = clf.predict_proba(X_val_cv)[:, 1]\n",
    "    \n",
    "    fpr, tpr, _ = roc_curve(y_val_cv, y_val_pred, pos_label=2)\n",
    "    roc_auc = auc(fpr, tpr)\n",
    "    roc_aucs.append(roc_auc)\n",
    "\n",
    "print(\"Mean AUC after 10-fold cross-validation:\", np.mean(roc_aucs))"
   ]
  },
  {
   "cell_type": "code",
   "execution_count": 6,
   "id": "daa71d3e",
   "metadata": {},
   "outputs": [],
   "source": [
    "# Train the classifier on the entire training set\n",
    "clf.fit(X_train, y_train)\n",
    "\n",
    "# Make predictions\n",
    "y_pred = clf.predict(X_test)\n",
    "y_pred_proba = clf.predict_proba(X_test)[:, 1]"
   ]
  },
  {
   "cell_type": "markdown",
   "id": "69799dd5",
   "metadata": {},
   "source": [
    "## Evaluate Model"
   ]
  },
  {
   "cell_type": "code",
   "execution_count": 7,
   "id": "6e362e73",
   "metadata": {},
   "outputs": [
    {
     "name": "stdout",
     "output_type": "stream",
     "text": [
      "Accuracy: 1.0\n",
      "Classification Report:\n",
      "               precision    recall  f1-score   support\n",
      "\n",
      "           1       1.00      1.00      1.00        28\n",
      "           2       1.00      1.00      1.00         5\n",
      "\n",
      "    accuracy                           1.00        33\n",
      "   macro avg       1.00      1.00      1.00        33\n",
      "weighted avg       1.00      1.00      1.00        33\n",
      "\n",
      "Confusion Matrix:\n",
      " [[28  0]\n",
      " [ 0  5]]\n"
     ]
    }
   ],
   "source": [
    "# Evaluate the classifier\n",
    "accuracy = accuracy_score(y_test, y_pred)\n",
    "print(\"Accuracy:\", accuracy)\n",
    "print(\"Classification Report:\\n\", classification_report(y_test, y_pred))\n",
    "print(\"Confusion Matrix:\\n\", confusion_matrix(y_test, y_pred))"
   ]
  },
  {
   "cell_type": "code",
   "execution_count": 8,
   "id": "a527a92f",
   "metadata": {},
   "outputs": [
    {
     "data": {
      "image/png": "[encoded data removed]",
      "text/plain": [
       "<Figure size 432x288 with 2 Axes>"
      ]
     },
     "metadata": {
      "needs_background": "light"
     },
     "output_type": "display_data"
    }
   ],
   "source": [
    "from sklearn.metrics import confusion_matrix, ConfusionMatrixDisplay\n",
    "\n",
    "# Confusion Matrix\n",
    "cm = confusion_matrix(y_test, y_pred)\n",
    "disp = ConfusionMatrixDisplay(confusion_matrix=cm)\n",
    "disp.plot()\n",
    "plt.show()"
   ]
  },
  {
   "cell_type": "code",
   "execution_count": 9,
   "id": "afe65908",
   "metadata": {},
   "outputs": [
    {
     "data": {
      "image/png": "[encoded data removed]",
      "text/plain": [
       "<Figure size 432x288 with 1 Axes>"
      ]
     },
     "metadata": {
      "needs_background": "light"
     },
     "output_type": "display_data"
    }
   ],
   "source": [
    "# Calculate AUC and plot the ROC curve\n",
    "fpr, tpr, _ = roc_curve(y_test, y_pred_proba, pos_label=2)\n",
    "roc_auc = auc(fpr, tpr)\n",
    "\n",
    "plt.figure()\n",
    "plt.plot(fpr, tpr, color='darkorange', lw=2, label='ROC curve (area = %0.2f)' % roc_auc)\n",
    "plt.plot([0, 1], [0, 1], color='navy', lw=2, linestyle='--')\n",
    "plt.xlim([0.0, 1.0])\n",
    "plt.ylim([0.0, 1.05])\n",
    "plt.xlabel('False Positive Rate')\n",
    "plt.ylabel('True Positive Rate')\n",
    "plt.title('Receiver Operating Characteristic (ROC)')\n",
    "plt.legend(loc=\"lower right\")\n",
    "plt.show()"
   ]
  },
  {
   "cell_type": "markdown",
   "id": "2bf138b0",
   "metadata": {},
   "source": [
    "On this particular dataset, our Random Forest Classifier Model performed with complete accuracy, zero false positives and false negatives, and the area under our ROC curve was 1.00. While this performance is ideal, it it worth noting that the dataset is quite small and we expect that accuracy would decrease on an larger sample. "
   ]
  },
  {
   "cell_type": "markdown",
   "id": "9cf59a65",
   "metadata": {},
   "source": [
    "## Use Model to Make Predictions Using Test Data"
   ]
  },
  {
   "cell_type": "code",
   "execution_count": 10,
   "id": "67412672",
   "metadata": {
    "scrolled": true
   },
   "outputs": [
    {
     "name": "stdout",
     "output_type": "stream",
     "text": [
      "\n",
      "Predictions for the test data:\n",
      "Actual values  : [2 1 1 1 1 1 1 1 1 1 1 1 1 1 1 2 1 1 1 1 1 1 1 1 2 1 1 1 1 2 1 2 1]\n",
      "Predicted values: [2 1 1 1 1 1 1 1 1 1 1 1 1 1 1 2 1 1 1 1 1 1 1 1 2 1 1 1 1 2 1 2 1]\n"
     ]
    }
   ],
   "source": [
    "# Show predictions for the test data\n",
    "print(\"\\nPredictions for the test data:\")\n",
    "print(\"Actual values  :\", np.array(y_test))\n",
    "print(\"Predicted values:\", y_pred)"
   ]
  },
  {
   "cell_type": "raw",
   "id": "4347842c",
   "metadata": {},
   "source": [
    "Our model made correct predictions for all of the observations in our test dataset. "
   ]
  },
  {
   "cell_type": "markdown",
   "id": "5db26a05",
   "metadata": {},
   "source": [
    "## Learnings - Post Workshop Reflections"
   ]
  },
  {
   "cell_type": "markdown",
   "id": "f6f6fd4c",
   "metadata": {},
   "source": [
    "Throughout the course of this workshop, one of the challenges we encountered as a team was a lack of familiarity and contextual understanding of the data. This, coupled with the vastness of data collected by the CSI AI-based manufacturing system, made it particularly difficult to know which features to use in our analysis. We'll include some of the process that went into refining our model here. "
   ]
  },
  {
   "cell_type": "code",
   "execution_count": 11,
   "id": "f55612e5",
   "metadata": {},
   "outputs": [
    {
     "name": "stdout",
     "output_type": "stream",
     "text": [
      "Coefficient of determination: 0.08079575427097607\n",
      "Score: 0.8285714285714286\n"
     ]
    }
   ],
   "source": [
    "# Initial concept explored: Build a regression model to predict whether a vial will pass or fail weigh check inspection \n",
    "# using WetFillStation3Duration as input:\n",
    "\n",
    "from sklearn.linear_model import LinearRegression\n",
    "from sklearn.linear_model import LogisticRegression\n",
    "\n",
    "# Read csv into pandas dataframe\n",
    "df = pd.read_csv('C:/Users/mlhen/Downloads/Data Workshop 1 Apr 6 2023.csv')\n",
    "\n",
    "# Select columns relevant to analysis\n",
    "df1 = df[['MESScheduleUniqueID', 'ManualRecipeNumber', 'WetFillStation3Duration', \n",
    "          'InspectStationWeighCheckPassFail']] #'InspectStationVisionPassFail'\n",
    "\n",
    "# Filter to one recipe and remove observation that did not complete the inspection\n",
    "df1 = df1[df1['ManualRecipeNumber']==1]\n",
    "df1 =  df1[df1['InspectStationWeighCheckPassFail']!=0]\n",
    "\n",
    "# Assign features and target to X and y\n",
    "X = df1[['WetFillStation3Duration']].to_numpy()\n",
    "y = df1['InspectStationWeighCheckPassFail']\n",
    "\n",
    "# Split X and y into training and testing sets\n",
    "X_train, X_test, y_train, y_test = train_test_split(X, y, test_size = 0.2, random_state=417)\n",
    "\n",
    "\n",
    "# Train a linear regression model on the training set\n",
    "LinReg = LinearRegression().fit(X_train, y_train)\n",
    "r_sq = LinReg.score(X_train, y_train)\n",
    "print(f'Coefficient of determination: {r_sq}')\n",
    "\n",
    "\n",
    "# Train a logistic regression model on the training set\n",
    "logreg = LogisticRegression().fit(X_train, y_train)\n",
    "score = logreg.score(X_train, y_train)\n",
    "print(f'Score: {score}')"
   ]
  },
  {
   "cell_type": "markdown",
   "id": "6569c4aa",
   "metadata": {},
   "source": [
    "Considering that, based on the weigh check station pass rate of 84% for the entire dataset, it is likely that predicting a pass for all observations would have achieved scores consistent with our regressions models. Therefore, the decision was made to employ feature selection modules to help determine which variables has the greatest impact on weigh check pass rate. "
   ]
  },
  {
   "cell_type": "code",
   "execution_count": 12,
   "id": "c04a1f54",
   "metadata": {},
   "outputs": [
    {
     "name": "stderr",
     "output_type": "stream",
     "text": [
      "C:\\Users\\mlhen\\AppData\\Local\\Temp/ipykernel_15592/2765409295.py:11: FutureWarning: casting datetime64[ns, UTC] values to int64 with .astype(...) is deprecated and will raise in a future version. Use .view(...) instead.\n",
      "  data1[col] = pd.to_datetime(data1[col]).astype(np.int64) // 10**9\n"
     ]
    },
    {
     "name": "stdout",
     "output_type": "stream",
     "text": [
      "Selected features: ['t', 'InspectStationVisionFinishTimeDay', 'InspectStationVisionStartTimeDay', 'InspectStationVisionVialRGBBlue', 'InspectStationWeighCheckLowerLimit', 'InspectStationWeighCheckUpperLimit', 'Station1FinishTimeHour', 'UnloadFinishTimeHour', 'WetFillStation3FinishTimeHour', 'WetFillStation3VolumeDispTank3']\n"
     ]
    }
   ],
   "source": [
    "# Read csv into pandas dataframe\n",
    "data1 = pd.read_csv('C:/Users/mlhen/Downloads/Data Workshop 1 Apr 6 2023.csv')\n",
    "\n",
    "# Preprocess the data\n",
    "data1 = data1[data1['ManualRecipeNumber'] == 1]\n",
    "data1 = data1[data1['InspectStationWeighCheckPassFail'] != 0]\n",
    "\n",
    "# Identify datetime column(s) and convert them to Unix timestamps\n",
    "datetime_columns = [col for col in data1.columns if re.match(r'\\d{4}-\\d{2}-\\d{2}T\\d{2}:\\d{2}:\\d{2}\\.\\d{3}Z', str(data1[col].iloc[0]))]\n",
    "for col in datetime_columns:\n",
    "    data1[col] = pd.to_datetime(data1[col]).astype(np.int64) // 10**9\n",
    "    \n",
    "# Drop non-numeric columns\n",
    "numeric_data = data1.select_dtypes(include=[np.number])\n",
    "data1 = numeric_data.copy()\n",
    "\n",
    "data1.reset_index(drop=True, inplace=True)\n",
    "\n",
    "# Define the target and features\n",
    "target = 'InspectStationWeighCheckPassFail'\n",
    "features = data1.drop(columns=[target])\n",
    "\n",
    "# Perform feature selection using mutual information\n",
    "selector = SelectKBest(score_func=mutual_info_classif, k=10)\n",
    "selector.fit(features, data1[target])\n",
    "selected_features = features.columns[selector.get_support()]\n",
    "\n",
    "print(\"Selected features:\", list(selected_features))"
   ]
  },
  {
   "cell_type": "code",
   "execution_count": 13,
   "id": "17812463",
   "metadata": {},
   "outputs": [
    {
     "name": "stdout",
     "output_type": "stream",
     "text": [
      "Accuracy: 0.925\n",
      "Classification Report:\n",
      "               precision    recall  f1-score   support\n",
      "\n",
      "           1       0.91      1.00      0.96        32\n",
      "           2       1.00      0.62      0.77         8\n",
      "\n",
      "    accuracy                           0.93        40\n",
      "   macro avg       0.96      0.81      0.86        40\n",
      "weighted avg       0.93      0.93      0.92        40\n",
      "\n",
      "Confusion Matrix:\n",
      " [[32  0]\n",
      " [ 3  5]]\n"
     ]
    }
   ],
   "source": [
    "# Train-test split\n",
    "X_train, X_test, y_train, y_test = train_test_split(features[selected_features], data[target], test_size=0.3, random_state=42)\n",
    "\n",
    "# Train a classifier (Random Forest as an example)\n",
    "clf = RandomForestClassifier(random_state=42)\n",
    "clf.fit(X_train, y_train)\n",
    "\n",
    "# Make predictions\n",
    "y_pred = clf.predict(X_test)\n",
    "\n",
    "# Evaluate the classifier\n",
    "accuracy = accuracy_score(y_test, y_pred)\n",
    "print(\"Accuracy:\", accuracy)\n",
    "print(\"Classification Report:\\n\", classification_report(y_test, y_pred))\n",
    "print(\"Confusion Matrix:\\n\", confusion_matrix(y_test, y_pred))"
   ]
  },
  {
   "cell_type": "code",
   "execution_count": 14,
   "id": "0ce1c803",
   "metadata": {},
   "outputs": [
    {
     "name": "stdout",
     "output_type": "stream",
     "text": [
      "\n",
      "Predictions for the test data:\n",
      "Actual values  : [1 1 1 1 1 1 1 1 1 1 1 1 2 2 1 2 1 1 1 1 1 2 2 2 1 1 1 1 1 2 2 1 1 1 1 1 1\n",
      " 1 1 1]\n",
      "Predicted values: [1 1 1 1 1 1 1 1 1 1 1 1 1 2 1 1 1 1 1 1 1 2 1 2 1 1 1 1 1 2 2 1 1 1 1 1 1\n",
      " 1 1 1]\n"
     ]
    }
   ],
   "source": [
    "# Show predictions for the test data\n",
    "print(\"\\nPredictions for the test data:\")\n",
    "print(\"Actual values  :\", np.array(y_test))\n",
    "print(\"Predicted values:\", y_pred)"
   ]
  },
  {
   "cell_type": "markdown",
   "id": "769aab65",
   "metadata": {},
   "source": [
    "In addition to the feature selection methods, we used a ensemble Random Forest Classifier model in hopes to reduce the impact of the bias in the dataset. The second experimental model we trained using the features selected by the scikit-learn feature selection module made a marked improvement in accuracy, however, upon reviewing the feature inputs, we noticed that many of those feature selected were related to date or time. Upon closer inspection, there really wasn't much of a range for dates and times in the dataset, so it seemed like it would be hard to derive meaningful patterns by focusing on those features - specifically, given the limited size of the dataset."
   ]
  },
  {
   "cell_type": "markdown",
   "id": "0be0cb82",
   "metadata": {},
   "source": [
    "By using some common logic to filter the dataset, removing columns with no variation, too much variation (unique ids), and with datetime data, we were able to greatly improve upon the model performance. Lastly, an assumption was made that upper and lower limits used in inspection steps were likely to be fixed by industry or product standards and so removed those columns, as well. "
   ]
  },
  {
   "cell_type": "markdown",
   "id": "0a240d92",
   "metadata": {},
   "source": [
    "## Benefits that the manufacturing plant would derive "
   ]
  },
  {
   "cell_type": "markdown",
   "id": "fc6c5542",
   "metadata": {},
   "source": [
    "Leveraging AI to identify variables that impact likelihood of quality inspection failure can help manufacturers to improve overall production quality and yield by: ​\n",
    "\n",
    "​\n",
    "\n",
    "Identifying areas needing for process improvement​\n",
    "\n",
    "Reducing cost associated with defective product delivery​\n",
    "\n",
    "Driving consistent delivery​\n",
    "\n",
    "Informing quality assurance guidelines that produce the best possible end-products​"
   ]
  }
 ],
 "metadata": {
  "kernelspec": {
   "display_name": "Python 3 (ipykernel)",
   "language": "python",
   "name": "python3"
  },
  "language_info": {
   "codemirror_mode": {
    "name": "ipython",
    "version": 3
   },
   "file_extension": ".py",
   "mimetype": "text/x-python",
   "name": "python",
   "nbconvert_exporter": "python",
   "pygments_lexer": "ipython3",
   "version": "3.9.7"
  }
 },
 "nbformat": 4,
 "nbformat_minor": 5
}
